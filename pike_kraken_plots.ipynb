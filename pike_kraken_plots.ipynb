{
 "cells": [
  {
   "cell_type": "code",
   "execution_count": 2,
   "id": "2b020c61-4e76-495b-9bba-146382a64f56",
   "metadata": {},
   "outputs": [
    {
     "name": "stdout",
     "output_type": "stream",
     "text": [
      "/mnt/disk1/RUNS/sonec_iv/pike_kraken_V3_V4/filt_res\n"
     ]
    },
    {
     "data": {
      "text/plain": [
       "'/mnt/disk1/RUNS/sonec_iv/pike_kraken_V3_V4/filt_res'"
      ]
     },
     "execution_count": 2,
     "metadata": {},
     "output_type": "execute_result"
    }
   ],
   "source": [
    "%cd /mnt/disk1/RUNS/sonec_iv/pike_kraken_V3_V4/filt_res\n",
    "%pwd"
   ]
  },
  {
   "cell_type": "code",
   "execution_count": 3,
   "id": "345354d1-c260-46d1-b050-11fd429d1346",
   "metadata": {},
   "outputs": [
    {
     "name": "stdout",
     "output_type": "stream",
     "text": [
      "V3_V4_1_bracken_species.txt  V3_V4_R1_bracken_species.txt\n",
      "V3_V4_2_bracken_species.txt  V3_V4_R2_bracken_species.txt\n",
      "V3_V4_3_bracken_species.txt  V3_V4_R3_bracken_species.txt\n"
     ]
    }
   ],
   "source": [
    "%ls"
   ]
  },
  {
   "cell_type": "code",
   "execution_count": 7,
   "id": "d8d7d5a9-c28b-4b99-a58f-30007be07b54",
   "metadata": {},
   "outputs": [],
   "source": [
    "import os\n",
    "import pandas as pd\n",
    "import matplotlib.pyplot as plt\n",
    "import plotly.express as px\n",
    "import plotly.graph_objects as go\n",
    "from pandas import read_csv, DataFrame"
   ]
  },
  {
   "cell_type": "code",
   "execution_count": 5,
   "id": "1988344e-60dc-4a58-b95d-35e919fef7b6",
   "metadata": {},
   "outputs": [],
   "source": [
    "folder_path = ('/mnt/disk1/RUNS/sonec_iv/pike_kraken_V3_V4/filt_res') # Replace with the actual path to your folder\n",
    "file_extension = '.txt'"
   ]
  },
  {
   "cell_type": "code",
   "execution_count": 6,
   "id": "82dfa975-7b8b-4aec-a917-3d7db8ecb2de",
   "metadata": {},
   "outputs": [
    {
     "data": {
      "text/html": [
       "<div>\n",
       "<style scoped>\n",
       "    .dataframe tbody tr th:only-of-type {\n",
       "        vertical-align: middle;\n",
       "    }\n",
       "\n",
       "    .dataframe tbody tr th {\n",
       "        vertical-align: top;\n",
       "    }\n",
       "\n",
       "    .dataframe thead th {\n",
       "        text-align: right;\n",
       "    }\n",
       "</style>\n",
       "<table border=\"1\" class=\"dataframe\">\n",
       "  <thead>\n",
       "    <tr style=\"text-align: right;\">\n",
       "      <th></th>\n",
       "      <th>Num_of_reads</th>\n",
       "      <th>Species</th>\n",
       "      <th>Sample</th>\n",
       "    </tr>\n",
       "  </thead>\n",
       "  <tbody>\n",
       "    <tr>\n",
       "      <th>0</th>\n",
       "      <td>254235</td>\n",
       "      <td>Klebsiella pneumoniae</td>\n",
       "      <td>V3_V4_3</td>\n",
       "    </tr>\n",
       "    <tr>\n",
       "      <th>1</th>\n",
       "      <td>9343</td>\n",
       "      <td>Acinetobacter radioresistens</td>\n",
       "      <td>V3_V4_3</td>\n",
       "    </tr>\n",
       "    <tr>\n",
       "      <th>2</th>\n",
       "      <td>162</td>\n",
       "      <td>Acinetobacter johnsonii</td>\n",
       "      <td>V3_V4_3</td>\n",
       "    </tr>\n",
       "    <tr>\n",
       "      <th>3</th>\n",
       "      <td>23044</td>\n",
       "      <td>Mycoplasma gallisepticum</td>\n",
       "      <td>V3_V4_3</td>\n",
       "    </tr>\n",
       "    <tr>\n",
       "      <th>4</th>\n",
       "      <td>18262</td>\n",
       "      <td>Bifidobacterium animalis</td>\n",
       "      <td>V3_V4_3</td>\n",
       "    </tr>\n",
       "    <tr>\n",
       "      <th>5</th>\n",
       "      <td>2470</td>\n",
       "      <td>Lactococcus lactis</td>\n",
       "      <td>V3_V4_3</td>\n",
       "    </tr>\n",
       "    <tr>\n",
       "      <th>6</th>\n",
       "      <td>44</td>\n",
       "      <td>Flavobacterium davisii</td>\n",
       "      <td>V3_V4_3</td>\n",
       "    </tr>\n",
       "    <tr>\n",
       "      <th>7</th>\n",
       "      <td>312250</td>\n",
       "      <td>Klebsiella pneumoniae</td>\n",
       "      <td>V3_V4_2</td>\n",
       "    </tr>\n",
       "    <tr>\n",
       "      <th>8</th>\n",
       "      <td>5113</td>\n",
       "      <td>Escherichia coli</td>\n",
       "      <td>V3_V4_2</td>\n",
       "    </tr>\n",
       "    <tr>\n",
       "      <th>9</th>\n",
       "      <td>9531</td>\n",
       "      <td>Acinetobacter radioresistens</td>\n",
       "      <td>V3_V4_2</td>\n",
       "    </tr>\n",
       "    <tr>\n",
       "      <th>10</th>\n",
       "      <td>30747</td>\n",
       "      <td>Mycoplasma gallisepticum</td>\n",
       "      <td>V3_V4_2</td>\n",
       "    </tr>\n",
       "    <tr>\n",
       "      <th>11</th>\n",
       "      <td>22113</td>\n",
       "      <td>Bifidobacterium animalis</td>\n",
       "      <td>V3_V4_2</td>\n",
       "    </tr>\n",
       "    <tr>\n",
       "      <th>12</th>\n",
       "      <td>161057</td>\n",
       "      <td>Klebsiella pneumoniae</td>\n",
       "      <td>V3_V4_1</td>\n",
       "    </tr>\n",
       "    <tr>\n",
       "      <th>13</th>\n",
       "      <td>5566</td>\n",
       "      <td>Acinetobacter radioresistens</td>\n",
       "      <td>V3_V4_1</td>\n",
       "    </tr>\n",
       "    <tr>\n",
       "      <th>14</th>\n",
       "      <td>165</td>\n",
       "      <td>Acinetobacter johnsonii</td>\n",
       "      <td>V3_V4_1</td>\n",
       "    </tr>\n",
       "    <tr>\n",
       "      <th>15</th>\n",
       "      <td>14314</td>\n",
       "      <td>Mycoplasma gallisepticum</td>\n",
       "      <td>V3_V4_1</td>\n",
       "    </tr>\n",
       "    <tr>\n",
       "      <th>16</th>\n",
       "      <td>11218</td>\n",
       "      <td>Bifidobacterium animalis</td>\n",
       "      <td>V3_V4_1</td>\n",
       "    </tr>\n",
       "    <tr>\n",
       "      <th>17</th>\n",
       "      <td>768</td>\n",
       "      <td>Cutibacterium acnes</td>\n",
       "      <td>V3_V4_1</td>\n",
       "    </tr>\n",
       "    <tr>\n",
       "      <th>18</th>\n",
       "      <td>122750</td>\n",
       "      <td>Klebsiella pneumoniae</td>\n",
       "      <td>V3_V4_R2</td>\n",
       "    </tr>\n",
       "    <tr>\n",
       "      <th>19</th>\n",
       "      <td>9060</td>\n",
       "      <td>Escherichia coli</td>\n",
       "      <td>V3_V4_R2</td>\n",
       "    </tr>\n",
       "    <tr>\n",
       "      <th>20</th>\n",
       "      <td>12789</td>\n",
       "      <td>Acinetobacter radioresistens</td>\n",
       "      <td>V3_V4_R2</td>\n",
       "    </tr>\n",
       "    <tr>\n",
       "      <th>21</th>\n",
       "      <td>271</td>\n",
       "      <td>Acinetobacter johnsonii</td>\n",
       "      <td>V3_V4_R2</td>\n",
       "    </tr>\n",
       "    <tr>\n",
       "      <th>22</th>\n",
       "      <td>17646</td>\n",
       "      <td>Mycoplasma gallisepticum</td>\n",
       "      <td>V3_V4_R2</td>\n",
       "    </tr>\n",
       "    <tr>\n",
       "      <th>23</th>\n",
       "      <td>10542</td>\n",
       "      <td>Bifidobacterium animalis</td>\n",
       "      <td>V3_V4_R2</td>\n",
       "    </tr>\n",
       "    <tr>\n",
       "      <th>24</th>\n",
       "      <td>1893</td>\n",
       "      <td>Streptococcus thermophilus</td>\n",
       "      <td>V3_V4_R2</td>\n",
       "    </tr>\n",
       "    <tr>\n",
       "      <th>25</th>\n",
       "      <td>250862</td>\n",
       "      <td>Klebsiella pneumoniae</td>\n",
       "      <td>V3_V4_R1</td>\n",
       "    </tr>\n",
       "    <tr>\n",
       "      <th>26</th>\n",
       "      <td>6089</td>\n",
       "      <td>Escherichia coli</td>\n",
       "      <td>V3_V4_R1</td>\n",
       "    </tr>\n",
       "    <tr>\n",
       "      <th>27</th>\n",
       "      <td>884</td>\n",
       "      <td>Acinetobacter baumannii</td>\n",
       "      <td>V3_V4_R1</td>\n",
       "    </tr>\n",
       "    <tr>\n",
       "      <th>28</th>\n",
       "      <td>13936</td>\n",
       "      <td>Acinetobacter radioresistens</td>\n",
       "      <td>V3_V4_R1</td>\n",
       "    </tr>\n",
       "    <tr>\n",
       "      <th>29</th>\n",
       "      <td>366</td>\n",
       "      <td>Acinetobacter johnsonii</td>\n",
       "      <td>V3_V4_R1</td>\n",
       "    </tr>\n",
       "    <tr>\n",
       "      <th>30</th>\n",
       "      <td>28634</td>\n",
       "      <td>Mycoplasma gallisepticum</td>\n",
       "      <td>V3_V4_R1</td>\n",
       "    </tr>\n",
       "    <tr>\n",
       "      <th>31</th>\n",
       "      <td>18884</td>\n",
       "      <td>Bifidobacterium animalis</td>\n",
       "      <td>V3_V4_R1</td>\n",
       "    </tr>\n",
       "    <tr>\n",
       "      <th>32</th>\n",
       "      <td>50</td>\n",
       "      <td>Flavobacterium davisii</td>\n",
       "      <td>V3_V4_R1</td>\n",
       "    </tr>\n",
       "    <tr>\n",
       "      <th>33</th>\n",
       "      <td>141058</td>\n",
       "      <td>Klebsiella pneumoniae</td>\n",
       "      <td>V3_V4_R3</td>\n",
       "    </tr>\n",
       "    <tr>\n",
       "      <th>34</th>\n",
       "      <td>9938</td>\n",
       "      <td>Acinetobacter radioresistens</td>\n",
       "      <td>V3_V4_R3</td>\n",
       "    </tr>\n",
       "    <tr>\n",
       "      <th>35</th>\n",
       "      <td>205</td>\n",
       "      <td>Acinetobacter johnsonii</td>\n",
       "      <td>V3_V4_R3</td>\n",
       "    </tr>\n",
       "    <tr>\n",
       "      <th>36</th>\n",
       "      <td>3</td>\n",
       "      <td>Roseicitreum antarcticum</td>\n",
       "      <td>V3_V4_R3</td>\n",
       "    </tr>\n",
       "    <tr>\n",
       "      <th>37</th>\n",
       "      <td>17240</td>\n",
       "      <td>Mycoplasma gallisepticum</td>\n",
       "      <td>V3_V4_R3</td>\n",
       "    </tr>\n",
       "    <tr>\n",
       "      <th>38</th>\n",
       "      <td>10910</td>\n",
       "      <td>Bifidobacterium animalis</td>\n",
       "      <td>V3_V4_R3</td>\n",
       "    </tr>\n",
       "    <tr>\n",
       "      <th>39</th>\n",
       "      <td>1560</td>\n",
       "      <td>Lactococcus lactis</td>\n",
       "      <td>V3_V4_R3</td>\n",
       "    </tr>\n",
       "  </tbody>\n",
       "</table>\n",
       "</div>"
      ],
      "text/plain": [
       "    Num_of_reads                       Species    Sample\n",
       "0         254235         Klebsiella pneumoniae   V3_V4_3\n",
       "1           9343  Acinetobacter radioresistens   V3_V4_3\n",
       "2            162       Acinetobacter johnsonii   V3_V4_3\n",
       "3          23044      Mycoplasma gallisepticum   V3_V4_3\n",
       "4          18262      Bifidobacterium animalis   V3_V4_3\n",
       "5           2470            Lactococcus lactis   V3_V4_3\n",
       "6             44        Flavobacterium davisii   V3_V4_3\n",
       "7         312250         Klebsiella pneumoniae   V3_V4_2\n",
       "8           5113              Escherichia coli   V3_V4_2\n",
       "9           9531  Acinetobacter radioresistens   V3_V4_2\n",
       "10         30747      Mycoplasma gallisepticum   V3_V4_2\n",
       "11         22113      Bifidobacterium animalis   V3_V4_2\n",
       "12        161057         Klebsiella pneumoniae   V3_V4_1\n",
       "13          5566  Acinetobacter radioresistens   V3_V4_1\n",
       "14           165       Acinetobacter johnsonii   V3_V4_1\n",
       "15         14314      Mycoplasma gallisepticum   V3_V4_1\n",
       "16         11218      Bifidobacterium animalis   V3_V4_1\n",
       "17           768           Cutibacterium acnes   V3_V4_1\n",
       "18        122750         Klebsiella pneumoniae  V3_V4_R2\n",
       "19          9060              Escherichia coli  V3_V4_R2\n",
       "20         12789  Acinetobacter radioresistens  V3_V4_R2\n",
       "21           271       Acinetobacter johnsonii  V3_V4_R2\n",
       "22         17646      Mycoplasma gallisepticum  V3_V4_R2\n",
       "23         10542      Bifidobacterium animalis  V3_V4_R2\n",
       "24          1893    Streptococcus thermophilus  V3_V4_R2\n",
       "25        250862         Klebsiella pneumoniae  V3_V4_R1\n",
       "26          6089              Escherichia coli  V3_V4_R1\n",
       "27           884       Acinetobacter baumannii  V3_V4_R1\n",
       "28         13936  Acinetobacter radioresistens  V3_V4_R1\n",
       "29           366       Acinetobacter johnsonii  V3_V4_R1\n",
       "30         28634      Mycoplasma gallisepticum  V3_V4_R1\n",
       "31         18884      Bifidobacterium animalis  V3_V4_R1\n",
       "32            50        Flavobacterium davisii  V3_V4_R1\n",
       "33        141058         Klebsiella pneumoniae  V3_V4_R3\n",
       "34          9938  Acinetobacter radioresistens  V3_V4_R3\n",
       "35           205       Acinetobacter johnsonii  V3_V4_R3\n",
       "36             3      Roseicitreum antarcticum  V3_V4_R3\n",
       "37         17240      Mycoplasma gallisepticum  V3_V4_R3\n",
       "38         10910      Bifidobacterium animalis  V3_V4_R3\n",
       "39          1560            Lactococcus lactis  V3_V4_R3"
      ]
     },
     "execution_count": 6,
     "metadata": {},
     "output_type": "execute_result"
    }
   ],
   "source": [
    "merged_df = pd.DataFrame()\n",
    "\n",
    "# Iterate over the files in the folder\n",
    "for file_name in os.listdir(folder_path):\n",
    "    if file_name.endswith(file_extension):\n",
    "        file_path = os.path.join(folder_path, file_name)\n",
    "        \n",
    "        # Step 2: Extract the desired columns from each file\n",
    "        temp_df = pd.read_csv(file_path, delimiter='\\t', header=None,usecols=[1,2])\n",
    "        \n",
    "        # Extract the sample number from the file name\n",
    "        sample_number = os.path.splitext(file_name)[0]\n",
    "        \n",
    "        # Add the sample number as a new column in the DataFrame\n",
    "        temp_df['sample_number'] = sample_number\n",
    "        \n",
    "        # Step 3: Merge the data into one DataFrame\n",
    "        merged_df = pd.concat([merged_df, temp_df])\n",
    "merged_df.columns=[\"Num_of_reads\", \"Species\", \"Sample\"]\n",
    "merged_df['Sample']=merged_df['Sample'].str.replace('_bracken_species','')\n",
    "merged_df= merged_df.reset_index(drop=True)\n",
    "merged_df"
   ]
  },
  {
   "cell_type": "code",
   "execution_count": 11,
   "id": "472d38fd-8b46-4aba-b0bb-bf467fc4064c",
   "metadata": {},
   "outputs": [
    {
     "data": {
      "text/html": [
       "<div>\n",
       "<style scoped>\n",
       "    .dataframe tbody tr th:only-of-type {\n",
       "        vertical-align: middle;\n",
       "    }\n",
       "\n",
       "    .dataframe tbody tr th {\n",
       "        vertical-align: top;\n",
       "    }\n",
       "\n",
       "    .dataframe thead th {\n",
       "        text-align: right;\n",
       "    }\n",
       "</style>\n",
       "<table border=\"1\" class=\"dataframe\">\n",
       "  <thead>\n",
       "    <tr style=\"text-align: right;\">\n",
       "      <th></th>\n",
       "      <th>Klebsiella pneumoniae</th>\n",
       "      <th>Acinetobacter radioresistens</th>\n",
       "      <th>Acinetobacter johnsonii</th>\n",
       "      <th>Mycoplasma gallisepticum</th>\n",
       "      <th>Bifidobacterium animalis</th>\n",
       "      <th>Lactococcus lactis</th>\n",
       "      <th>Flavobacterium davisii</th>\n",
       "      <th>Escherichia coli</th>\n",
       "      <th>Cutibacterium acnes</th>\n",
       "      <th>Streptococcus thermophilus</th>\n",
       "      <th>Acinetobacter baumannii</th>\n",
       "      <th>Roseicitreum antarcticum</th>\n",
       "    </tr>\n",
       "  </thead>\n",
       "  <tbody>\n",
       "    <tr>\n",
       "      <th>V3_V4_1</th>\n",
       "      <td>161057.0</td>\n",
       "      <td>5566.0</td>\n",
       "      <td>165.0</td>\n",
       "      <td>14314.0</td>\n",
       "      <td>11218.0</td>\n",
       "      <td>0.0</td>\n",
       "      <td>0.0</td>\n",
       "      <td>0.0</td>\n",
       "      <td>768.0</td>\n",
       "      <td>0.0</td>\n",
       "      <td>0.0</td>\n",
       "      <td>0.0</td>\n",
       "    </tr>\n",
       "    <tr>\n",
       "      <th>V3_V4_2</th>\n",
       "      <td>312250.0</td>\n",
       "      <td>9531.0</td>\n",
       "      <td>0.0</td>\n",
       "      <td>30747.0</td>\n",
       "      <td>22113.0</td>\n",
       "      <td>0.0</td>\n",
       "      <td>0.0</td>\n",
       "      <td>5113.0</td>\n",
       "      <td>0.0</td>\n",
       "      <td>0.0</td>\n",
       "      <td>0.0</td>\n",
       "      <td>0.0</td>\n",
       "    </tr>\n",
       "    <tr>\n",
       "      <th>V3_V4_3</th>\n",
       "      <td>254235.0</td>\n",
       "      <td>9343.0</td>\n",
       "      <td>162.0</td>\n",
       "      <td>23044.0</td>\n",
       "      <td>18262.0</td>\n",
       "      <td>2470.0</td>\n",
       "      <td>44.0</td>\n",
       "      <td>0.0</td>\n",
       "      <td>0.0</td>\n",
       "      <td>0.0</td>\n",
       "      <td>0.0</td>\n",
       "      <td>0.0</td>\n",
       "    </tr>\n",
       "    <tr>\n",
       "      <th>V3_V4_R1</th>\n",
       "      <td>250862.0</td>\n",
       "      <td>13936.0</td>\n",
       "      <td>366.0</td>\n",
       "      <td>28634.0</td>\n",
       "      <td>18884.0</td>\n",
       "      <td>0.0</td>\n",
       "      <td>50.0</td>\n",
       "      <td>6089.0</td>\n",
       "      <td>0.0</td>\n",
       "      <td>0.0</td>\n",
       "      <td>884.0</td>\n",
       "      <td>0.0</td>\n",
       "    </tr>\n",
       "    <tr>\n",
       "      <th>V3_V4_R2</th>\n",
       "      <td>122750.0</td>\n",
       "      <td>12789.0</td>\n",
       "      <td>271.0</td>\n",
       "      <td>17646.0</td>\n",
       "      <td>10542.0</td>\n",
       "      <td>0.0</td>\n",
       "      <td>0.0</td>\n",
       "      <td>9060.0</td>\n",
       "      <td>0.0</td>\n",
       "      <td>1893.0</td>\n",
       "      <td>0.0</td>\n",
       "      <td>0.0</td>\n",
       "    </tr>\n",
       "    <tr>\n",
       "      <th>V3_V4_R3</th>\n",
       "      <td>141058.0</td>\n",
       "      <td>9938.0</td>\n",
       "      <td>205.0</td>\n",
       "      <td>17240.0</td>\n",
       "      <td>10910.0</td>\n",
       "      <td>1560.0</td>\n",
       "      <td>0.0</td>\n",
       "      <td>0.0</td>\n",
       "      <td>0.0</td>\n",
       "      <td>0.0</td>\n",
       "      <td>0.0</td>\n",
       "      <td>3.0</td>\n",
       "    </tr>\n",
       "  </tbody>\n",
       "</table>\n",
       "</div>"
      ],
      "text/plain": [
       "          Klebsiella pneumoniae  Acinetobacter radioresistens  \\\n",
       "V3_V4_1                161057.0                        5566.0   \n",
       "V3_V4_2                312250.0                        9531.0   \n",
       "V3_V4_3                254235.0                        9343.0   \n",
       "V3_V4_R1               250862.0                       13936.0   \n",
       "V3_V4_R2               122750.0                       12789.0   \n",
       "V3_V4_R3               141058.0                        9938.0   \n",
       "\n",
       "          Acinetobacter johnsonii  Mycoplasma gallisepticum  \\\n",
       "V3_V4_1                     165.0                   14314.0   \n",
       "V3_V4_2                       0.0                   30747.0   \n",
       "V3_V4_3                     162.0                   23044.0   \n",
       "V3_V4_R1                    366.0                   28634.0   \n",
       "V3_V4_R2                    271.0                   17646.0   \n",
       "V3_V4_R3                    205.0                   17240.0   \n",
       "\n",
       "          Bifidobacterium animalis  Lactococcus lactis  \\\n",
       "V3_V4_1                    11218.0                 0.0   \n",
       "V3_V4_2                    22113.0                 0.0   \n",
       "V3_V4_3                    18262.0              2470.0   \n",
       "V3_V4_R1                   18884.0                 0.0   \n",
       "V3_V4_R2                   10542.0                 0.0   \n",
       "V3_V4_R3                   10910.0              1560.0   \n",
       "\n",
       "          Flavobacterium davisii  Escherichia coli  Cutibacterium acnes  \\\n",
       "V3_V4_1                      0.0               0.0                768.0   \n",
       "V3_V4_2                      0.0            5113.0                  0.0   \n",
       "V3_V4_3                     44.0               0.0                  0.0   \n",
       "V3_V4_R1                    50.0            6089.0                  0.0   \n",
       "V3_V4_R2                     0.0            9060.0                  0.0   \n",
       "V3_V4_R3                     0.0               0.0                  0.0   \n",
       "\n",
       "          Streptococcus thermophilus  Acinetobacter baumannii  \\\n",
       "V3_V4_1                          0.0                      0.0   \n",
       "V3_V4_2                          0.0                      0.0   \n",
       "V3_V4_3                          0.0                      0.0   \n",
       "V3_V4_R1                         0.0                    884.0   \n",
       "V3_V4_R2                      1893.0                      0.0   \n",
       "V3_V4_R3                         0.0                      0.0   \n",
       "\n",
       "          Roseicitreum antarcticum  \n",
       "V3_V4_1                        0.0  \n",
       "V3_V4_2                        0.0  \n",
       "V3_V4_3                        0.0  \n",
       "V3_V4_R1                       0.0  \n",
       "V3_V4_R2                       0.0  \n",
       "V3_V4_R3                       3.0  "
      ]
     },
     "execution_count": 11,
     "metadata": {},
     "output_type": "execute_result"
    }
   ],
   "source": [
    "new_table = {}\n",
    "\n",
    "for sample in merged_df['Sample'].unique():\n",
    "    \n",
    "    sample_subset = merged_df[merged_df['Sample'] == sample]\n",
    "    new_table[sample] = {sample_subset['Species'][idx] : sample_subset['Num_of_reads'][idx] for idx in sample_subset.index}\n",
    "\n",
    "new_table = DataFrame(new_table).fillna(0).T\n",
    "sorted_names = ['V3_V4_1',\n",
    "                'V3_V4_2',\n",
    "                'V3_V4_3',\n",
    "                'V3_V4_R1',\n",
    "                'V3_V4_R2',\n",
    "                'V3_V4_R3']\n",
    "                \n",
    "new_table=new_table.loc[sorted_names]\n",
    "new_table.head(10)"
   ]
  },
  {
   "cell_type": "code",
   "execution_count": 12,
   "id": "1ce94878-1980-4b03-999b-b6d9afee3104",
   "metadata": {},
   "outputs": [
    {
     "data": {
      "text/plain": [
       "{'Klebsiella pneumoniae': '#CE18A4',\n",
       " 'Acinetobacter radioresistens': '#FC2F7D',\n",
       " 'Acinetobacter johnsonii': '#CAC2D0',\n",
       " 'Mycoplasma gallisepticum': '#B228C7',\n",
       " 'Bifidobacterium animalis': '#B30FEA',\n",
       " 'Lactococcus lactis': '#1259FC',\n",
       " 'Flavobacterium davisii': '#6A2F7E',\n",
       " 'Escherichia coli': '#44E1EB',\n",
       " 'Cutibacterium acnes': '#7E8478',\n",
       " 'Streptococcus thermophilus': '#2AB8A8',\n",
       " 'Acinetobacter baumannii': '#C7CAAE',\n",
       " 'Roseicitreum antarcticum': '#A0C7F0'}"
      ]
     },
     "execution_count": 12,
     "metadata": {},
     "output_type": "execute_result"
    }
   ],
   "source": [
    "new_table.columns\n",
    "def get_color(obj_dict):\n",
    "    import random    \n",
    "    color = ''\n",
    "    \n",
    "    while color not in obj_dict.values() and color == '':\n",
    "        \n",
    "        color = \"#\"+''.join([random.choice('0123456789ABCDEF') for j in range(6)])\n",
    "    \n",
    "    return color\n",
    "color_dict = {}\n",
    "\n",
    "for taxon in new_table.columns:\n",
    "    \n",
    "    color_dict[taxon] = get_color(color_dict)\n",
    "color_dict"
   ]
  },
  {
   "cell_type": "code",
   "execution_count": 16,
   "id": "afc0513f-e8f7-4ba2-ab5e-a621c8985179",
   "metadata": {},
   "outputs": [
    {
     "data": {
      "application/vnd.plotly.v1+json": {
       "config": {
        "plotlyServerURL": "https://plot.ly"
       },
       "data": [
        {
         "alignmentgroup": "True",
         "hovertemplate": "variable=Klebsiella pneumoniae<br>Sample=%{x}<br>No of reads=%{y}<extra></extra>",
         "legendgroup": "Klebsiella pneumoniae",
         "marker": {
          "color": "#CE18A4",
          "line": {
           "color": "black",
           "width": 0.1
          },
          "pattern": {
           "shape": ""
          }
         },
         "name": "Klebsiella pneumoniae",
         "offsetgroup": "Klebsiella pneumoniae",
         "orientation": "v",
         "showlegend": true,
         "textposition": "auto",
         "type": "bar",
         "x": [
          "V3_V4_1",
          "V3_V4_2",
          "V3_V4_3",
          "V3_V4_R1",
          "V3_V4_R2",
          "V3_V4_R3"
         ],
         "xaxis": "x",
         "y": [
          161057,
          312250,
          254235,
          250862,
          122750,
          141058
         ],
         "yaxis": "y"
        },
        {
         "alignmentgroup": "True",
         "hovertemplate": "variable=Acinetobacter radioresistens<br>Sample=%{x}<br>No of reads=%{y}<extra></extra>",
         "legendgroup": "Acinetobacter radioresistens",
         "marker": {
          "color": "#FC2F7D",
          "line": {
           "color": "black",
           "width": 0.1
          },
          "pattern": {
           "shape": ""
          }
         },
         "name": "Acinetobacter radioresistens",
         "offsetgroup": "Acinetobacter radioresistens",
         "orientation": "v",
         "showlegend": true,
         "textposition": "auto",
         "type": "bar",
         "x": [
          "V3_V4_1",
          "V3_V4_2",
          "V3_V4_3",
          "V3_V4_R1",
          "V3_V4_R2",
          "V3_V4_R3"
         ],
         "xaxis": "x",
         "y": [
          5566,
          9531,
          9343,
          13936,
          12789,
          9938
         ],
         "yaxis": "y"
        },
        {
         "alignmentgroup": "True",
         "hovertemplate": "variable=Acinetobacter johnsonii<br>Sample=%{x}<br>No of reads=%{y}<extra></extra>",
         "legendgroup": "Acinetobacter johnsonii",
         "marker": {
          "color": "#CAC2D0",
          "line": {
           "color": "black",
           "width": 0.1
          },
          "pattern": {
           "shape": ""
          }
         },
         "name": "Acinetobacter johnsonii",
         "offsetgroup": "Acinetobacter johnsonii",
         "orientation": "v",
         "showlegend": true,
         "textposition": "auto",
         "type": "bar",
         "x": [
          "V3_V4_1",
          "V3_V4_2",
          "V3_V4_3",
          "V3_V4_R1",
          "V3_V4_R2",
          "V3_V4_R3"
         ],
         "xaxis": "x",
         "y": [
          165,
          0,
          162,
          366,
          271,
          205
         ],
         "yaxis": "y"
        },
        {
         "alignmentgroup": "True",
         "hovertemplate": "variable=Mycoplasma gallisepticum<br>Sample=%{x}<br>No of reads=%{y}<extra></extra>",
         "legendgroup": "Mycoplasma gallisepticum",
         "marker": {
          "color": "#B228C7",
          "line": {
           "color": "black",
           "width": 0.1
          },
          "pattern": {
           "shape": ""
          }
         },
         "name": "Mycoplasma gallisepticum",
         "offsetgroup": "Mycoplasma gallisepticum",
         "orientation": "v",
         "showlegend": true,
         "textposition": "auto",
         "type": "bar",
         "x": [
          "V3_V4_1",
          "V3_V4_2",
          "V3_V4_3",
          "V3_V4_R1",
          "V3_V4_R2",
          "V3_V4_R3"
         ],
         "xaxis": "x",
         "y": [
          14314,
          30747,
          23044,
          28634,
          17646,
          17240
         ],
         "yaxis": "y"
        },
        {
         "alignmentgroup": "True",
         "hovertemplate": "variable=Bifidobacterium animalis<br>Sample=%{x}<br>No of reads=%{y}<extra></extra>",
         "legendgroup": "Bifidobacterium animalis",
         "marker": {
          "color": "#B30FEA",
          "line": {
           "color": "black",
           "width": 0.1
          },
          "pattern": {
           "shape": ""
          }
         },
         "name": "Bifidobacterium animalis",
         "offsetgroup": "Bifidobacterium animalis",
         "orientation": "v",
         "showlegend": true,
         "textposition": "auto",
         "type": "bar",
         "x": [
          "V3_V4_1",
          "V3_V4_2",
          "V3_V4_3",
          "V3_V4_R1",
          "V3_V4_R2",
          "V3_V4_R3"
         ],
         "xaxis": "x",
         "y": [
          11218,
          22113,
          18262,
          18884,
          10542,
          10910
         ],
         "yaxis": "y"
        },
        {
         "alignmentgroup": "True",
         "hovertemplate": "variable=Lactococcus lactis<br>Sample=%{x}<br>No of reads=%{y}<extra></extra>",
         "legendgroup": "Lactococcus lactis",
         "marker": {
          "color": "#1259FC",
          "line": {
           "color": "black",
           "width": 0.1
          },
          "pattern": {
           "shape": ""
          }
         },
         "name": "Lactococcus lactis",
         "offsetgroup": "Lactococcus lactis",
         "orientation": "v",
         "showlegend": true,
         "textposition": "auto",
         "type": "bar",
         "x": [
          "V3_V4_1",
          "V3_V4_2",
          "V3_V4_3",
          "V3_V4_R1",
          "V3_V4_R2",
          "V3_V4_R3"
         ],
         "xaxis": "x",
         "y": [
          0,
          0,
          2470,
          0,
          0,
          1560
         ],
         "yaxis": "y"
        },
        {
         "alignmentgroup": "True",
         "hovertemplate": "variable=Flavobacterium davisii<br>Sample=%{x}<br>No of reads=%{y}<extra></extra>",
         "legendgroup": "Flavobacterium davisii",
         "marker": {
          "color": "#6A2F7E",
          "line": {
           "color": "black",
           "width": 0.1
          },
          "pattern": {
           "shape": ""
          }
         },
         "name": "Flavobacterium davisii",
         "offsetgroup": "Flavobacterium davisii",
         "orientation": "v",
         "showlegend": true,
         "textposition": "auto",
         "type": "bar",
         "x": [
          "V3_V4_1",
          "V3_V4_2",
          "V3_V4_3",
          "V3_V4_R1",
          "V3_V4_R2",
          "V3_V4_R3"
         ],
         "xaxis": "x",
         "y": [
          0,
          0,
          44,
          50,
          0,
          0
         ],
         "yaxis": "y"
        },
        {
         "alignmentgroup": "True",
         "hovertemplate": "variable=Escherichia coli<br>Sample=%{x}<br>No of reads=%{y}<extra></extra>",
         "legendgroup": "Escherichia coli",
         "marker": {
          "color": "#44E1EB",
          "line": {
           "color": "black",
           "width": 0.1
          },
          "pattern": {
           "shape": ""
          }
         },
         "name": "Escherichia coli",
         "offsetgroup": "Escherichia coli",
         "orientation": "v",
         "showlegend": true,
         "textposition": "auto",
         "type": "bar",
         "x": [
          "V3_V4_1",
          "V3_V4_2",
          "V3_V4_3",
          "V3_V4_R1",
          "V3_V4_R2",
          "V3_V4_R3"
         ],
         "xaxis": "x",
         "y": [
          0,
          5113,
          0,
          6089,
          9060,
          0
         ],
         "yaxis": "y"
        },
        {
         "alignmentgroup": "True",
         "hovertemplate": "variable=Cutibacterium acnes<br>Sample=%{x}<br>No of reads=%{y}<extra></extra>",
         "legendgroup": "Cutibacterium acnes",
         "marker": {
          "color": "#7E8478",
          "line": {
           "color": "black",
           "width": 0.1
          },
          "pattern": {
           "shape": ""
          }
         },
         "name": "Cutibacterium acnes",
         "offsetgroup": "Cutibacterium acnes",
         "orientation": "v",
         "showlegend": true,
         "textposition": "auto",
         "type": "bar",
         "x": [
          "V3_V4_1",
          "V3_V4_2",
          "V3_V4_3",
          "V3_V4_R1",
          "V3_V4_R2",
          "V3_V4_R3"
         ],
         "xaxis": "x",
         "y": [
          768,
          0,
          0,
          0,
          0,
          0
         ],
         "yaxis": "y"
        },
        {
         "alignmentgroup": "True",
         "hovertemplate": "variable=Streptococcus thermophilus<br>Sample=%{x}<br>No of reads=%{y}<extra></extra>",
         "legendgroup": "Streptococcus thermophilus",
         "marker": {
          "color": "#2AB8A8",
          "line": {
           "color": "black",
           "width": 0.1
          },
          "pattern": {
           "shape": ""
          }
         },
         "name": "Streptococcus thermophilus",
         "offsetgroup": "Streptococcus thermophilus",
         "orientation": "v",
         "showlegend": true,
         "textposition": "auto",
         "type": "bar",
         "x": [
          "V3_V4_1",
          "V3_V4_2",
          "V3_V4_3",
          "V3_V4_R1",
          "V3_V4_R2",
          "V3_V4_R3"
         ],
         "xaxis": "x",
         "y": [
          0,
          0,
          0,
          0,
          1893,
          0
         ],
         "yaxis": "y"
        },
        {
         "alignmentgroup": "True",
         "hovertemplate": "variable=Acinetobacter baumannii<br>Sample=%{x}<br>No of reads=%{y}<extra></extra>",
         "legendgroup": "Acinetobacter baumannii",
         "marker": {
          "color": "#C7CAAE",
          "line": {
           "color": "black",
           "width": 0.1
          },
          "pattern": {
           "shape": ""
          }
         },
         "name": "Acinetobacter baumannii",
         "offsetgroup": "Acinetobacter baumannii",
         "orientation": "v",
         "showlegend": true,
         "textposition": "auto",
         "type": "bar",
         "x": [
          "V3_V4_1",
          "V3_V4_2",
          "V3_V4_3",
          "V3_V4_R1",
          "V3_V4_R2",
          "V3_V4_R3"
         ],
         "xaxis": "x",
         "y": [
          0,
          0,
          0,
          884,
          0,
          0
         ],
         "yaxis": "y"
        },
        {
         "alignmentgroup": "True",
         "hovertemplate": "variable=Roseicitreum antarcticum<br>Sample=%{x}<br>No of reads=%{y}<extra></extra>",
         "legendgroup": "Roseicitreum antarcticum",
         "marker": {
          "color": "#A0C7F0",
          "line": {
           "color": "black",
           "width": 0.1
          },
          "pattern": {
           "shape": ""
          }
         },
         "name": "Roseicitreum antarcticum",
         "offsetgroup": "Roseicitreum antarcticum",
         "orientation": "v",
         "showlegend": true,
         "textposition": "auto",
         "type": "bar",
         "x": [
          "V3_V4_1",
          "V3_V4_2",
          "V3_V4_3",
          "V3_V4_R1",
          "V3_V4_R2",
          "V3_V4_R3"
         ],
         "xaxis": "x",
         "y": [
          0,
          0,
          0,
          0,
          0,
          3
         ],
         "yaxis": "y"
        }
       ],
       "layout": {
        "autosize": true,
        "barmode": "relative",
        "legend": {
         "entrywidth": 80,
         "orientation": "h",
         "title": {
          "text": "Genus"
         },
         "tracegroupgap": 0,
         "x": 1,
         "xanchor": "right",
         "y": 1.02,
         "yanchor": "bottom"
        },
        "margin": {
         "t": 60
        },
        "template": {
         "data": {
          "bar": [
           {
            "error_x": {
             "color": "#2a3f5f"
            },
            "error_y": {
             "color": "#2a3f5f"
            },
            "marker": {
             "line": {
              "color": "#E5ECF6",
              "width": 0.5
             },
             "pattern": {
              "fillmode": "overlay",
              "size": 10,
              "solidity": 0.2
             }
            },
            "type": "bar"
           }
          ],
          "barpolar": [
           {
            "marker": {
             "line": {
              "color": "#E5ECF6",
              "width": 0.5
             },
             "pattern": {
              "fillmode": "overlay",
              "size": 10,
              "solidity": 0.2
             }
            },
            "type": "barpolar"
           }
          ],
          "carpet": [
           {
            "aaxis": {
             "endlinecolor": "#2a3f5f",
             "gridcolor": "white",
             "linecolor": "white",
             "minorgridcolor": "white",
             "startlinecolor": "#2a3f5f"
            },
            "baxis": {
             "endlinecolor": "#2a3f5f",
             "gridcolor": "white",
             "linecolor": "white",
             "minorgridcolor": "white",
             "startlinecolor": "#2a3f5f"
            },
            "type": "carpet"
           }
          ],
          "choropleth": [
           {
            "colorbar": {
             "outlinewidth": 0,
             "ticks": ""
            },
            "type": "choropleth"
           }
          ],
          "contour": [
           {
            "colorbar": {
             "outlinewidth": 0,
             "ticks": ""
            },
            "colorscale": [
             [
              0,
              "#0d0887"
             ],
             [
              0.1111111111111111,
              "#46039f"
             ],
             [
              0.2222222222222222,
              "#7201a8"
             ],
             [
              0.3333333333333333,
              "#9c179e"
             ],
             [
              0.4444444444444444,
              "#bd3786"
             ],
             [
              0.5555555555555556,
              "#d8576b"
             ],
             [
              0.6666666666666666,
              "#ed7953"
             ],
             [
              0.7777777777777778,
              "#fb9f3a"
             ],
             [
              0.8888888888888888,
              "#fdca26"
             ],
             [
              1,
              "#f0f921"
             ]
            ],
            "type": "contour"
           }
          ],
          "contourcarpet": [
           {
            "colorbar": {
             "outlinewidth": 0,
             "ticks": ""
            },
            "type": "contourcarpet"
           }
          ],
          "heatmap": [
           {
            "colorbar": {
             "outlinewidth": 0,
             "ticks": ""
            },
            "colorscale": [
             [
              0,
              "#0d0887"
             ],
             [
              0.1111111111111111,
              "#46039f"
             ],
             [
              0.2222222222222222,
              "#7201a8"
             ],
             [
              0.3333333333333333,
              "#9c179e"
             ],
             [
              0.4444444444444444,
              "#bd3786"
             ],
             [
              0.5555555555555556,
              "#d8576b"
             ],
             [
              0.6666666666666666,
              "#ed7953"
             ],
             [
              0.7777777777777778,
              "#fb9f3a"
             ],
             [
              0.8888888888888888,
              "#fdca26"
             ],
             [
              1,
              "#f0f921"
             ]
            ],
            "type": "heatmap"
           }
          ],
          "heatmapgl": [
           {
            "colorbar": {
             "outlinewidth": 0,
             "ticks": ""
            },
            "colorscale": [
             [
              0,
              "#0d0887"
             ],
             [
              0.1111111111111111,
              "#46039f"
             ],
             [
              0.2222222222222222,
              "#7201a8"
             ],
             [
              0.3333333333333333,
              "#9c179e"
             ],
             [
              0.4444444444444444,
              "#bd3786"
             ],
             [
              0.5555555555555556,
              "#d8576b"
             ],
             [
              0.6666666666666666,
              "#ed7953"
             ],
             [
              0.7777777777777778,
              "#fb9f3a"
             ],
             [
              0.8888888888888888,
              "#fdca26"
             ],
             [
              1,
              "#f0f921"
             ]
            ],
            "type": "heatmapgl"
           }
          ],
          "histogram": [
           {
            "marker": {
             "pattern": {
              "fillmode": "overlay",
              "size": 10,
              "solidity": 0.2
             }
            },
            "type": "histogram"
           }
          ],
          "histogram2d": [
           {
            "colorbar": {
             "outlinewidth": 0,
             "ticks": ""
            },
            "colorscale": [
             [
              0,
              "#0d0887"
             ],
             [
              0.1111111111111111,
              "#46039f"
             ],
             [
              0.2222222222222222,
              "#7201a8"
             ],
             [
              0.3333333333333333,
              "#9c179e"
             ],
             [
              0.4444444444444444,
              "#bd3786"
             ],
             [
              0.5555555555555556,
              "#d8576b"
             ],
             [
              0.6666666666666666,
              "#ed7953"
             ],
             [
              0.7777777777777778,
              "#fb9f3a"
             ],
             [
              0.8888888888888888,
              "#fdca26"
             ],
             [
              1,
              "#f0f921"
             ]
            ],
            "type": "histogram2d"
           }
          ],
          "histogram2dcontour": [
           {
            "colorbar": {
             "outlinewidth": 0,
             "ticks": ""
            },
            "colorscale": [
             [
              0,
              "#0d0887"
             ],
             [
              0.1111111111111111,
              "#46039f"
             ],
             [
              0.2222222222222222,
              "#7201a8"
             ],
             [
              0.3333333333333333,
              "#9c179e"
             ],
             [
              0.4444444444444444,
              "#bd3786"
             ],
             [
              0.5555555555555556,
              "#d8576b"
             ],
             [
              0.6666666666666666,
              "#ed7953"
             ],
             [
              0.7777777777777778,
              "#fb9f3a"
             ],
             [
              0.8888888888888888,
              "#fdca26"
             ],
             [
              1,
              "#f0f921"
             ]
            ],
            "type": "histogram2dcontour"
           }
          ],
          "mesh3d": [
           {
            "colorbar": {
             "outlinewidth": 0,
             "ticks": ""
            },
            "type": "mesh3d"
           }
          ],
          "parcoords": [
           {
            "line": {
             "colorbar": {
              "outlinewidth": 0,
              "ticks": ""
             }
            },
            "type": "parcoords"
           }
          ],
          "pie": [
           {
            "automargin": true,
            "type": "pie"
           }
          ],
          "scatter": [
           {
            "fillpattern": {
             "fillmode": "overlay",
             "size": 10,
             "solidity": 0.2
            },
            "type": "scatter"
           }
          ],
          "scatter3d": [
           {
            "line": {
             "colorbar": {
              "outlinewidth": 0,
              "ticks": ""
             }
            },
            "marker": {
             "colorbar": {
              "outlinewidth": 0,
              "ticks": ""
             }
            },
            "type": "scatter3d"
           }
          ],
          "scattercarpet": [
           {
            "marker": {
             "colorbar": {
              "outlinewidth": 0,
              "ticks": ""
             }
            },
            "type": "scattercarpet"
           }
          ],
          "scattergeo": [
           {
            "marker": {
             "colorbar": {
              "outlinewidth": 0,
              "ticks": ""
             }
            },
            "type": "scattergeo"
           }
          ],
          "scattergl": [
           {
            "marker": {
             "colorbar": {
              "outlinewidth": 0,
              "ticks": ""
             }
            },
            "type": "scattergl"
           }
          ],
          "scattermapbox": [
           {
            "marker": {
             "colorbar": {
              "outlinewidth": 0,
              "ticks": ""
             }
            },
            "type": "scattermapbox"
           }
          ],
          "scatterpolar": [
           {
            "marker": {
             "colorbar": {
              "outlinewidth": 0,
              "ticks": ""
             }
            },
            "type": "scatterpolar"
           }
          ],
          "scatterpolargl": [
           {
            "marker": {
             "colorbar": {
              "outlinewidth": 0,
              "ticks": ""
             }
            },
            "type": "scatterpolargl"
           }
          ],
          "scatterternary": [
           {
            "marker": {
             "colorbar": {
              "outlinewidth": 0,
              "ticks": ""
             }
            },
            "type": "scatterternary"
           }
          ],
          "surface": [
           {
            "colorbar": {
             "outlinewidth": 0,
             "ticks": ""
            },
            "colorscale": [
             [
              0,
              "#0d0887"
             ],
             [
              0.1111111111111111,
              "#46039f"
             ],
             [
              0.2222222222222222,
              "#7201a8"
             ],
             [
              0.3333333333333333,
              "#9c179e"
             ],
             [
              0.4444444444444444,
              "#bd3786"
             ],
             [
              0.5555555555555556,
              "#d8576b"
             ],
             [
              0.6666666666666666,
              "#ed7953"
             ],
             [
              0.7777777777777778,
              "#fb9f3a"
             ],
             [
              0.8888888888888888,
              "#fdca26"
             ],
             [
              1,
              "#f0f921"
             ]
            ],
            "type": "surface"
           }
          ],
          "table": [
           {
            "cells": {
             "fill": {
              "color": "#EBF0F8"
             },
             "line": {
              "color": "white"
             }
            },
            "header": {
             "fill": {
              "color": "#C8D4E3"
             },
             "line": {
              "color": "white"
             }
            },
            "type": "table"
           }
          ]
         },
         "layout": {
          "annotationdefaults": {
           "arrowcolor": "#2a3f5f",
           "arrowhead": 0,
           "arrowwidth": 1
          },
          "autotypenumbers": "strict",
          "coloraxis": {
           "colorbar": {
            "outlinewidth": 0,
            "ticks": ""
           }
          },
          "colorscale": {
           "diverging": [
            [
             0,
             "#8e0152"
            ],
            [
             0.1,
             "#c51b7d"
            ],
            [
             0.2,
             "#de77ae"
            ],
            [
             0.3,
             "#f1b6da"
            ],
            [
             0.4,
             "#fde0ef"
            ],
            [
             0.5,
             "#f7f7f7"
            ],
            [
             0.6,
             "#e6f5d0"
            ],
            [
             0.7,
             "#b8e186"
            ],
            [
             0.8,
             "#7fbc41"
            ],
            [
             0.9,
             "#4d9221"
            ],
            [
             1,
             "#276419"
            ]
           ],
           "sequential": [
            [
             0,
             "#0d0887"
            ],
            [
             0.1111111111111111,
             "#46039f"
            ],
            [
             0.2222222222222222,
             "#7201a8"
            ],
            [
             0.3333333333333333,
             "#9c179e"
            ],
            [
             0.4444444444444444,
             "#bd3786"
            ],
            [
             0.5555555555555556,
             "#d8576b"
            ],
            [
             0.6666666666666666,
             "#ed7953"
            ],
            [
             0.7777777777777778,
             "#fb9f3a"
            ],
            [
             0.8888888888888888,
             "#fdca26"
            ],
            [
             1,
             "#f0f921"
            ]
           ],
           "sequentialminus": [
            [
             0,
             "#0d0887"
            ],
            [
             0.1111111111111111,
             "#46039f"
            ],
            [
             0.2222222222222222,
             "#7201a8"
            ],
            [
             0.3333333333333333,
             "#9c179e"
            ],
            [
             0.4444444444444444,
             "#bd3786"
            ],
            [
             0.5555555555555556,
             "#d8576b"
            ],
            [
             0.6666666666666666,
             "#ed7953"
            ],
            [
             0.7777777777777778,
             "#fb9f3a"
            ],
            [
             0.8888888888888888,
             "#fdca26"
            ],
            [
             1,
             "#f0f921"
            ]
           ]
          },
          "colorway": [
           "#636efa",
           "#EF553B",
           "#00cc96",
           "#ab63fa",
           "#FFA15A",
           "#19d3f3",
           "#FF6692",
           "#B6E880",
           "#FF97FF",
           "#FECB52"
          ],
          "font": {
           "color": "#2a3f5f"
          },
          "geo": {
           "bgcolor": "white",
           "lakecolor": "white",
           "landcolor": "#E5ECF6",
           "showlakes": true,
           "showland": true,
           "subunitcolor": "white"
          },
          "hoverlabel": {
           "align": "left"
          },
          "hovermode": "closest",
          "mapbox": {
           "style": "light"
          },
          "paper_bgcolor": "white",
          "plot_bgcolor": "#E5ECF6",
          "polar": {
           "angularaxis": {
            "gridcolor": "white",
            "linecolor": "white",
            "ticks": ""
           },
           "bgcolor": "#E5ECF6",
           "radialaxis": {
            "gridcolor": "white",
            "linecolor": "white",
            "ticks": ""
           }
          },
          "scene": {
           "xaxis": {
            "backgroundcolor": "#E5ECF6",
            "gridcolor": "white",
            "gridwidth": 2,
            "linecolor": "white",
            "showbackground": true,
            "ticks": "",
            "zerolinecolor": "white"
           },
           "yaxis": {
            "backgroundcolor": "#E5ECF6",
            "gridcolor": "white",
            "gridwidth": 2,
            "linecolor": "white",
            "showbackground": true,
            "ticks": "",
            "zerolinecolor": "white"
           },
           "zaxis": {
            "backgroundcolor": "#E5ECF6",
            "gridcolor": "white",
            "gridwidth": 2,
            "linecolor": "white",
            "showbackground": true,
            "ticks": "",
            "zerolinecolor": "white"
           }
          },
          "shapedefaults": {
           "line": {
            "color": "#2a3f5f"
           }
          },
          "ternary": {
           "aaxis": {
            "gridcolor": "white",
            "linecolor": "white",
            "ticks": ""
           },
           "baxis": {
            "gridcolor": "white",
            "linecolor": "white",
            "ticks": ""
           },
           "bgcolor": "#E5ECF6",
           "caxis": {
            "gridcolor": "white",
            "linecolor": "white",
            "ticks": ""
           }
          },
          "title": {
           "x": 0.05
          },
          "xaxis": {
           "automargin": true,
           "gridcolor": "white",
           "linecolor": "white",
           "ticks": "",
           "title": {
            "standoff": 15
           },
           "zerolinecolor": "white",
           "zerolinewidth": 2
          },
          "yaxis": {
           "automargin": true,
           "gridcolor": "white",
           "linecolor": "white",
           "ticks": "",
           "title": {
            "standoff": 15
           },
           "zerolinecolor": "white",
           "zerolinewidth": 2
          }
         }
        },
        "xaxis": {
         "anchor": "y",
         "autorange": true,
         "domain": [
          0,
          1
         ],
         "range": [
          -0.5,
          5.5
         ],
         "title": {
          "text": "Sample"
         },
         "type": "category"
        },
        "yaxis": {
         "anchor": "x",
         "autorange": true,
         "domain": [
          0,
          1
         ],
         "range": [
          0,
          399741.05263157893
         ],
         "title": {
          "text": "No of reads"
         },
         "type": "linear"
        }
       }
      },
      "image/png": "[encoded data removed]",
      "text/html": [
       "<div>                            <div id=\"926a3b4a-a037-45d2-a8e5-6f5e1f995ebd\" class=\"plotly-graph-div\" style=\"height:525px; width:100%;\"></div>            <script type=\"text/javascript\">                require([\"plotly\"], function(Plotly) {                    window.PLOTLYENV=window.PLOTLYENV || {};                                    if (document.getElementById(\"926a3b4a-a037-45d2-a8e5-6f5e1f995ebd\")) {                    Plotly.newPlot(                        \"926a3b4a-a037-45d2-a8e5-6f5e1f995ebd\",                        [{\"alignmentgroup\":\"True\",\"hovertemplate\":\"variable=Klebsiella pneumoniae\\u003cbr\\u003eSample=%{x}\\u003cbr\\u003eNo of reads=%{y}\\u003cextra\\u003e\\u003c\\u002fextra\\u003e\",\"legendgroup\":\"Klebsiella pneumoniae\",\"marker\":{\"color\":\"#CE18A4\",\"pattern\":{\"shape\":\"\"},\"line\":{\"color\":\"black\",\"width\":0.1}},\"name\":\"Klebsiella pneumoniae\",\"offsetgroup\":\"Klebsiella pneumoniae\",\"orientation\":\"v\",\"showlegend\":true,\"textposition\":\"auto\",\"x\":[\"V3_V4_1\",\"V3_V4_2\",\"V3_V4_3\",\"V3_V4_R1\",\"V3_V4_R2\",\"V3_V4_R3\"],\"xaxis\":\"x\",\"y\":[161057.0,312250.0,254235.0,250862.0,122750.0,141058.0],\"yaxis\":\"y\",\"type\":\"bar\"},{\"alignmentgroup\":\"True\",\"hovertemplate\":\"variable=Acinetobacter radioresistens\\u003cbr\\u003eSample=%{x}\\u003cbr\\u003eNo of reads=%{y}\\u003cextra\\u003e\\u003c\\u002fextra\\u003e\",\"legendgroup\":\"Acinetobacter radioresistens\",\"marker\":{\"color\":\"#FC2F7D\",\"pattern\":{\"shape\":\"\"},\"line\":{\"color\":\"black\",\"width\":0.1}},\"name\":\"Acinetobacter radioresistens\",\"offsetgroup\":\"Acinetobacter radioresistens\",\"orientation\":\"v\",\"showlegend\":true,\"textposition\":\"auto\",\"x\":[\"V3_V4_1\",\"V3_V4_2\",\"V3_V4_3\",\"V3_V4_R1\",\"V3_V4_R2\",\"V3_V4_R3\"],\"xaxis\":\"x\",\"y\":[5566.0,9531.0,9343.0,13936.0,12789.0,9938.0],\"yaxis\":\"y\",\"type\":\"bar\"},{\"alignmentgroup\":\"True\",\"hovertemplate\":\"variable=Acinetobacter johnsonii\\u003cbr\\u003eSample=%{x}\\u003cbr\\u003eNo of reads=%{y}\\u003cextra\\u003e\\u003c\\u002fextra\\u003e\",\"legendgroup\":\"Acinetobacter johnsonii\",\"marker\":{\"color\":\"#CAC2D0\",\"pattern\":{\"shape\":\"\"},\"line\":{\"color\":\"black\",\"width\":0.1}},\"name\":\"Acinetobacter johnsonii\",\"offsetgroup\":\"Acinetobacter johnsonii\",\"orientation\":\"v\",\"showlegend\":true,\"textposition\":\"auto\",\"x\":[\"V3_V4_1\",\"V3_V4_2\",\"V3_V4_3\",\"V3_V4_R1\",\"V3_V4_R2\",\"V3_V4_R3\"],\"xaxis\":\"x\",\"y\":[165.0,0.0,162.0,366.0,271.0,205.0],\"yaxis\":\"y\",\"type\":\"bar\"},{\"alignmentgroup\":\"True\",\"hovertemplate\":\"variable=Mycoplasma gallisepticum\\u003cbr\\u003eSample=%{x}\\u003cbr\\u003eNo of reads=%{y}\\u003cextra\\u003e\\u003c\\u002fextra\\u003e\",\"legendgroup\":\"Mycoplasma gallisepticum\",\"marker\":{\"color\":\"#B228C7\",\"pattern\":{\"shape\":\"\"},\"line\":{\"color\":\"black\",\"width\":0.1}},\"name\":\"Mycoplasma gallisepticum\",\"offsetgroup\":\"Mycoplasma gallisepticum\",\"orientation\":\"v\",\"showlegend\":true,\"textposition\":\"auto\",\"x\":[\"V3_V4_1\",\"V3_V4_2\",\"V3_V4_3\",\"V3_V4_R1\",\"V3_V4_R2\",\"V3_V4_R3\"],\"xaxis\":\"x\",\"y\":[14314.0,30747.0,23044.0,28634.0,17646.0,17240.0],\"yaxis\":\"y\",\"type\":\"bar\"},{\"alignmentgroup\":\"True\",\"hovertemplate\":\"variable=Bifidobacterium animalis\\u003cbr\\u003eSample=%{x}\\u003cbr\\u003eNo of reads=%{y}\\u003cextra\\u003e\\u003c\\u002fextra\\u003e\",\"legendgroup\":\"Bifidobacterium animalis\",\"marker\":{\"color\":\"#B30FEA\",\"pattern\":{\"shape\":\"\"},\"line\":{\"color\":\"black\",\"width\":0.1}},\"name\":\"Bifidobacterium animalis\",\"offsetgroup\":\"Bifidobacterium animalis\",\"orientation\":\"v\",\"showlegend\":true,\"textposition\":\"auto\",\"x\":[\"V3_V4_1\",\"V3_V4_2\",\"V3_V4_3\",\"V3_V4_R1\",\"V3_V4_R2\",\"V3_V4_R3\"],\"xaxis\":\"x\",\"y\":[11218.0,22113.0,18262.0,18884.0,10542.0,10910.0],\"yaxis\":\"y\",\"type\":\"bar\"},{\"alignmentgroup\":\"True\",\"hovertemplate\":\"variable=Lactococcus lactis\\u003cbr\\u003eSample=%{x}\\u003cbr\\u003eNo of reads=%{y}\\u003cextra\\u003e\\u003c\\u002fextra\\u003e\",\"legendgroup\":\"Lactococcus lactis\",\"marker\":{\"color\":\"#1259FC\",\"pattern\":{\"shape\":\"\"},\"line\":{\"color\":\"black\",\"width\":0.1}},\"name\":\"Lactococcus lactis\",\"offsetgroup\":\"Lactococcus lactis\",\"orientation\":\"v\",\"showlegend\":true,\"textposition\":\"auto\",\"x\":[\"V3_V4_1\",\"V3_V4_2\",\"V3_V4_3\",\"V3_V4_R1\",\"V3_V4_R2\",\"V3_V4_R3\"],\"xaxis\":\"x\",\"y\":[0.0,0.0,2470.0,0.0,0.0,1560.0],\"yaxis\":\"y\",\"type\":\"bar\"},{\"alignmentgroup\":\"True\",\"hovertemplate\":\"variable=Flavobacterium davisii\\u003cbr\\u003eSample=%{x}\\u003cbr\\u003eNo of reads=%{y}\\u003cextra\\u003e\\u003c\\u002fextra\\u003e\",\"legendgroup\":\"Flavobacterium davisii\",\"marker\":{\"color\":\"#6A2F7E\",\"pattern\":{\"shape\":\"\"},\"line\":{\"color\":\"black\",\"width\":0.1}},\"name\":\"Flavobacterium davisii\",\"offsetgroup\":\"Flavobacterium davisii\",\"orientation\":\"v\",\"showlegend\":true,\"textposition\":\"auto\",\"x\":[\"V3_V4_1\",\"V3_V4_2\",\"V3_V4_3\",\"V3_V4_R1\",\"V3_V4_R2\",\"V3_V4_R3\"],\"xaxis\":\"x\",\"y\":[0.0,0.0,44.0,50.0,0.0,0.0],\"yaxis\":\"y\",\"type\":\"bar\"},{\"alignmentgroup\":\"True\",\"hovertemplate\":\"variable=Escherichia coli\\u003cbr\\u003eSample=%{x}\\u003cbr\\u003eNo of reads=%{y}\\u003cextra\\u003e\\u003c\\u002fextra\\u003e\",\"legendgroup\":\"Escherichia coli\",\"marker\":{\"color\":\"#44E1EB\",\"pattern\":{\"shape\":\"\"},\"line\":{\"color\":\"black\",\"width\":0.1}},\"name\":\"Escherichia coli\",\"offsetgroup\":\"Escherichia coli\",\"orientation\":\"v\",\"showlegend\":true,\"textposition\":\"auto\",\"x\":[\"V3_V4_1\",\"V3_V4_2\",\"V3_V4_3\",\"V3_V4_R1\",\"V3_V4_R2\",\"V3_V4_R3\"],\"xaxis\":\"x\",\"y\":[0.0,5113.0,0.0,6089.0,9060.0,0.0],\"yaxis\":\"y\",\"type\":\"bar\"},{\"alignmentgroup\":\"True\",\"hovertemplate\":\"variable=Cutibacterium acnes\\u003cbr\\u003eSample=%{x}\\u003cbr\\u003eNo of reads=%{y}\\u003cextra\\u003e\\u003c\\u002fextra\\u003e\",\"legendgroup\":\"Cutibacterium acnes\",\"marker\":{\"color\":\"#7E8478\",\"pattern\":{\"shape\":\"\"},\"line\":{\"color\":\"black\",\"width\":0.1}},\"name\":\"Cutibacterium acnes\",\"offsetgroup\":\"Cutibacterium acnes\",\"orientation\":\"v\",\"showlegend\":true,\"textposition\":\"auto\",\"x\":[\"V3_V4_1\",\"V3_V4_2\",\"V3_V4_3\",\"V3_V4_R1\",\"V3_V4_R2\",\"V3_V4_R3\"],\"xaxis\":\"x\",\"y\":[768.0,0.0,0.0,0.0,0.0,0.0],\"yaxis\":\"y\",\"type\":\"bar\"},{\"alignmentgroup\":\"True\",\"hovertemplate\":\"variable=Streptococcus thermophilus\\u003cbr\\u003eSample=%{x}\\u003cbr\\u003eNo of reads=%{y}\\u003cextra\\u003e\\u003c\\u002fextra\\u003e\",\"legendgroup\":\"Streptococcus thermophilus\",\"marker\":{\"color\":\"#2AB8A8\",\"pattern\":{\"shape\":\"\"},\"line\":{\"color\":\"black\",\"width\":0.1}},\"name\":\"Streptococcus thermophilus\",\"offsetgroup\":\"Streptococcus thermophilus\",\"orientation\":\"v\",\"showlegend\":true,\"textposition\":\"auto\",\"x\":[\"V3_V4_1\",\"V3_V4_2\",\"V3_V4_3\",\"V3_V4_R1\",\"V3_V4_R2\",\"V3_V4_R3\"],\"xaxis\":\"x\",\"y\":[0.0,0.0,0.0,0.0,1893.0,0.0],\"yaxis\":\"y\",\"type\":\"bar\"},{\"alignmentgroup\":\"True\",\"hovertemplate\":\"variable=Acinetobacter baumannii\\u003cbr\\u003eSample=%{x}\\u003cbr\\u003eNo of reads=%{y}\\u003cextra\\u003e\\u003c\\u002fextra\\u003e\",\"legendgroup\":\"Acinetobacter baumannii\",\"marker\":{\"color\":\"#C7CAAE\",\"pattern\":{\"shape\":\"\"},\"line\":{\"color\":\"black\",\"width\":0.1}},\"name\":\"Acinetobacter baumannii\",\"offsetgroup\":\"Acinetobacter baumannii\",\"orientation\":\"v\",\"showlegend\":true,\"textposition\":\"auto\",\"x\":[\"V3_V4_1\",\"V3_V4_2\",\"V3_V4_3\",\"V3_V4_R1\",\"V3_V4_R2\",\"V3_V4_R3\"],\"xaxis\":\"x\",\"y\":[0.0,0.0,0.0,884.0,0.0,0.0],\"yaxis\":\"y\",\"type\":\"bar\"},{\"alignmentgroup\":\"True\",\"hovertemplate\":\"variable=Roseicitreum antarcticum\\u003cbr\\u003eSample=%{x}\\u003cbr\\u003eNo of reads=%{y}\\u003cextra\\u003e\\u003c\\u002fextra\\u003e\",\"legendgroup\":\"Roseicitreum antarcticum\",\"marker\":{\"color\":\"#A0C7F0\",\"pattern\":{\"shape\":\"\"},\"line\":{\"color\":\"black\",\"width\":0.1}},\"name\":\"Roseicitreum antarcticum\",\"offsetgroup\":\"Roseicitreum antarcticum\",\"orientation\":\"v\",\"showlegend\":true,\"textposition\":\"auto\",\"x\":[\"V3_V4_1\",\"V3_V4_2\",\"V3_V4_3\",\"V3_V4_R1\",\"V3_V4_R2\",\"V3_V4_R3\"],\"xaxis\":\"x\",\"y\":[0.0,0.0,0.0,0.0,0.0,3.0],\"yaxis\":\"y\",\"type\":\"bar\"}],                        {\"template\":{\"data\":{\"histogram2dcontour\":[{\"type\":\"histogram2dcontour\",\"colorbar\":{\"outlinewidth\":0,\"ticks\":\"\"},\"colorscale\":[[0.0,\"#0d0887\"],[0.1111111111111111,\"#46039f\"],[0.2222222222222222,\"#7201a8\"],[0.3333333333333333,\"#9c179e\"],[0.4444444444444444,\"#bd3786\"],[0.5555555555555556,\"#d8576b\"],[0.6666666666666666,\"#ed7953\"],[0.7777777777777778,\"#fb9f3a\"],[0.8888888888888888,\"#fdca26\"],[1.0,\"#f0f921\"]]}],\"choropleth\":[{\"type\":\"choropleth\",\"colorbar\":{\"outlinewidth\":0,\"ticks\":\"\"}}],\"histogram2d\":[{\"type\":\"histogram2d\",\"colorbar\":{\"outlinewidth\":0,\"ticks\":\"\"},\"colorscale\":[[0.0,\"#0d0887\"],[0.1111111111111111,\"#46039f\"],[0.2222222222222222,\"#7201a8\"],[0.3333333333333333,\"#9c179e\"],[0.4444444444444444,\"#bd3786\"],[0.5555555555555556,\"#d8576b\"],[0.6666666666666666,\"#ed7953\"],[0.7777777777777778,\"#fb9f3a\"],[0.8888888888888888,\"#fdca26\"],[1.0,\"#f0f921\"]]}],\"heatmap\":[{\"type\":\"heatmap\",\"colorbar\":{\"outlinewidth\":0,\"ticks\":\"\"},\"colorscale\":[[0.0,\"#0d0887\"],[0.1111111111111111,\"#46039f\"],[0.2222222222222222,\"#7201a8\"],[0.3333333333333333,\"#9c179e\"],[0.4444444444444444,\"#bd3786\"],[0.5555555555555556,\"#d8576b\"],[0.6666666666666666,\"#ed7953\"],[0.7777777777777778,\"#fb9f3a\"],[0.8888888888888888,\"#fdca26\"],[1.0,\"#f0f921\"]]}],\"heatmapgl\":[{\"type\":\"heatmapgl\",\"colorbar\":{\"outlinewidth\":0,\"ticks\":\"\"},\"colorscale\":[[0.0,\"#0d0887\"],[0.1111111111111111,\"#46039f\"],[0.2222222222222222,\"#7201a8\"],[0.3333333333333333,\"#9c179e\"],[0.4444444444444444,\"#bd3786\"],[0.5555555555555556,\"#d8576b\"],[0.6666666666666666,\"#ed7953\"],[0.7777777777777778,\"#fb9f3a\"],[0.8888888888888888,\"#fdca26\"],[1.0,\"#f0f921\"]]}],\"contourcarpet\":[{\"type\":\"contourcarpet\",\"colorbar\":{\"outlinewidth\":0,\"ticks\":\"\"}}],\"contour\":[{\"type\":\"contour\",\"colorbar\":{\"outlinewidth\":0,\"ticks\":\"\"},\"colorscale\":[[0.0,\"#0d0887\"],[0.1111111111111111,\"#46039f\"],[0.2222222222222222,\"#7201a8\"],[0.3333333333333333,\"#9c179e\"],[0.4444444444444444,\"#bd3786\"],[0.5555555555555556,\"#d8576b\"],[0.6666666666666666,\"#ed7953\"],[0.7777777777777778,\"#fb9f3a\"],[0.8888888888888888,\"#fdca26\"],[1.0,\"#f0f921\"]]}],\"surface\":[{\"type\":\"surface\",\"colorbar\":{\"outlinewidth\":0,\"ticks\":\"\"},\"colorscale\":[[0.0,\"#0d0887\"],[0.1111111111111111,\"#46039f\"],[0.2222222222222222,\"#7201a8\"],[0.3333333333333333,\"#9c179e\"],[0.4444444444444444,\"#bd3786\"],[0.5555555555555556,\"#d8576b\"],[0.6666666666666666,\"#ed7953\"],[0.7777777777777778,\"#fb9f3a\"],[0.8888888888888888,\"#fdca26\"],[1.0,\"#f0f921\"]]}],\"mesh3d\":[{\"type\":\"mesh3d\",\"colorbar\":{\"outlinewidth\":0,\"ticks\":\"\"}}],\"scatter\":[{\"fillpattern\":{\"fillmode\":\"overlay\",\"size\":10,\"solidity\":0.2},\"type\":\"scatter\"}],\"parcoords\":[{\"type\":\"parcoords\",\"line\":{\"colorbar\":{\"outlinewidth\":0,\"ticks\":\"\"}}}],\"scatterpolargl\":[{\"type\":\"scatterpolargl\",\"marker\":{\"colorbar\":{\"outlinewidth\":0,\"ticks\":\"\"}}}],\"bar\":[{\"error_x\":{\"color\":\"#2a3f5f\"},\"error_y\":{\"color\":\"#2a3f5f\"},\"marker\":{\"line\":{\"color\":\"#E5ECF6\",\"width\":0.5},\"pattern\":{\"fillmode\":\"overlay\",\"size\":10,\"solidity\":0.2}},\"type\":\"bar\"}],\"scattergeo\":[{\"type\":\"scattergeo\",\"marker\":{\"colorbar\":{\"outlinewidth\":0,\"ticks\":\"\"}}}],\"scatterpolar\":[{\"type\":\"scatterpolar\",\"marker\":{\"colorbar\":{\"outlinewidth\":0,\"ticks\":\"\"}}}],\"histogram\":[{\"marker\":{\"pattern\":{\"fillmode\":\"overlay\",\"size\":10,\"solidity\":0.2}},\"type\":\"histogram\"}],\"scattergl\":[{\"type\":\"scattergl\",\"marker\":{\"colorbar\":{\"outlinewidth\":0,\"ticks\":\"\"}}}],\"scatter3d\":[{\"type\":\"scatter3d\",\"line\":{\"colorbar\":{\"outlinewidth\":0,\"ticks\":\"\"}},\"marker\":{\"colorbar\":{\"outlinewidth\":0,\"ticks\":\"\"}}}],\"scattermapbox\":[{\"type\":\"scattermapbox\",\"marker\":{\"colorbar\":{\"outlinewidth\":0,\"ticks\":\"\"}}}],\"scatterternary\":[{\"type\":\"scatterternary\",\"marker\":{\"colorbar\":{\"outlinewidth\":0,\"ticks\":\"\"}}}],\"scattercarpet\":[{\"type\":\"scattercarpet\",\"marker\":{\"colorbar\":{\"outlinewidth\":0,\"ticks\":\"\"}}}],\"carpet\":[{\"aaxis\":{\"endlinecolor\":\"#2a3f5f\",\"gridcolor\":\"white\",\"linecolor\":\"white\",\"minorgridcolor\":\"white\",\"startlinecolor\":\"#2a3f5f\"},\"baxis\":{\"endlinecolor\":\"#2a3f5f\",\"gridcolor\":\"white\",\"linecolor\":\"white\",\"minorgridcolor\":\"white\",\"startlinecolor\":\"#2a3f5f\"},\"type\":\"carpet\"}],\"table\":[{\"cells\":{\"fill\":{\"color\":\"#EBF0F8\"},\"line\":{\"color\":\"white\"}},\"header\":{\"fill\":{\"color\":\"#C8D4E3\"},\"line\":{\"color\":\"white\"}},\"type\":\"table\"}],\"barpolar\":[{\"marker\":{\"line\":{\"color\":\"#E5ECF6\",\"width\":0.5},\"pattern\":{\"fillmode\":\"overlay\",\"size\":10,\"solidity\":0.2}},\"type\":\"barpolar\"}],\"pie\":[{\"automargin\":true,\"type\":\"pie\"}]},\"layout\":{\"autotypenumbers\":\"strict\",\"colorway\":[\"#636efa\",\"#EF553B\",\"#00cc96\",\"#ab63fa\",\"#FFA15A\",\"#19d3f3\",\"#FF6692\",\"#B6E880\",\"#FF97FF\",\"#FECB52\"],\"font\":{\"color\":\"#2a3f5f\"},\"hovermode\":\"closest\",\"hoverlabel\":{\"align\":\"left\"},\"paper_bgcolor\":\"white\",\"plot_bgcolor\":\"#E5ECF6\",\"polar\":{\"bgcolor\":\"#E5ECF6\",\"angularaxis\":{\"gridcolor\":\"white\",\"linecolor\":\"white\",\"ticks\":\"\"},\"radialaxis\":{\"gridcolor\":\"white\",\"linecolor\":\"white\",\"ticks\":\"\"}},\"ternary\":{\"bgcolor\":\"#E5ECF6\",\"aaxis\":{\"gridcolor\":\"white\",\"linecolor\":\"white\",\"ticks\":\"\"},\"baxis\":{\"gridcolor\":\"white\",\"linecolor\":\"white\",\"ticks\":\"\"},\"caxis\":{\"gridcolor\":\"white\",\"linecolor\":\"white\",\"ticks\":\"\"}},\"coloraxis\":{\"colorbar\":{\"outlinewidth\":0,\"ticks\":\"\"}},\"colorscale\":{\"sequential\":[[0.0,\"#0d0887\"],[0.1111111111111111,\"#46039f\"],[0.2222222222222222,\"#7201a8\"],[0.3333333333333333,\"#9c179e\"],[0.4444444444444444,\"#bd3786\"],[0.5555555555555556,\"#d8576b\"],[0.6666666666666666,\"#ed7953\"],[0.7777777777777778,\"#fb9f3a\"],[0.8888888888888888,\"#fdca26\"],[1.0,\"#f0f921\"]],\"sequentialminus\":[[0.0,\"#0d0887\"],[0.1111111111111111,\"#46039f\"],[0.2222222222222222,\"#7201a8\"],[0.3333333333333333,\"#9c179e\"],[0.4444444444444444,\"#bd3786\"],[0.5555555555555556,\"#d8576b\"],[0.6666666666666666,\"#ed7953\"],[0.7777777777777778,\"#fb9f3a\"],[0.8888888888888888,\"#fdca26\"],[1.0,\"#f0f921\"]],\"diverging\":[[0,\"#8e0152\"],[0.1,\"#c51b7d\"],[0.2,\"#de77ae\"],[0.3,\"#f1b6da\"],[0.4,\"#fde0ef\"],[0.5,\"#f7f7f7\"],[0.6,\"#e6f5d0\"],[0.7,\"#b8e186\"],[0.8,\"#7fbc41\"],[0.9,\"#4d9221\"],[1,\"#276419\"]]},\"xaxis\":{\"gridcolor\":\"white\",\"linecolor\":\"white\",\"ticks\":\"\",\"title\":{\"standoff\":15},\"zerolinecolor\":\"white\",\"automargin\":true,\"zerolinewidth\":2},\"yaxis\":{\"gridcolor\":\"white\",\"linecolor\":\"white\",\"ticks\":\"\",\"title\":{\"standoff\":15},\"zerolinecolor\":\"white\",\"automargin\":true,\"zerolinewidth\":2},\"scene\":{\"xaxis\":{\"backgroundcolor\":\"#E5ECF6\",\"gridcolor\":\"white\",\"linecolor\":\"white\",\"showbackground\":true,\"ticks\":\"\",\"zerolinecolor\":\"white\",\"gridwidth\":2},\"yaxis\":{\"backgroundcolor\":\"#E5ECF6\",\"gridcolor\":\"white\",\"linecolor\":\"white\",\"showbackground\":true,\"ticks\":\"\",\"zerolinecolor\":\"white\",\"gridwidth\":2},\"zaxis\":{\"backgroundcolor\":\"#E5ECF6\",\"gridcolor\":\"white\",\"linecolor\":\"white\",\"showbackground\":true,\"ticks\":\"\",\"zerolinecolor\":\"white\",\"gridwidth\":2}},\"shapedefaults\":{\"line\":{\"color\":\"#2a3f5f\"}},\"annotationdefaults\":{\"arrowcolor\":\"#2a3f5f\",\"arrowhead\":0,\"arrowwidth\":1},\"geo\":{\"bgcolor\":\"white\",\"landcolor\":\"#E5ECF6\",\"subunitcolor\":\"white\",\"showland\":true,\"showlakes\":true,\"lakecolor\":\"white\"},\"title\":{\"x\":0.05},\"mapbox\":{\"style\":\"light\"}}},\"xaxis\":{\"anchor\":\"y\",\"domain\":[0.0,1.0],\"title\":{\"text\":\"Sample\"}},\"yaxis\":{\"anchor\":\"x\",\"domain\":[0.0,1.0],\"title\":{\"text\":\"No of reads\"}},\"legend\":{\"title\":{\"text\":\"Genus\"},\"tracegroupgap\":0,\"orientation\":\"h\",\"entrywidth\":80,\"yanchor\":\"bottom\",\"y\":1.02,\"xanchor\":\"right\",\"x\":1},\"margin\":{\"t\":60},\"barmode\":\"relative\"},                        {\"responsive\": true}                    ).then(function(){\n",
       "                            \n",
       "var gd = document.getElementById('926a3b4a-a037-45d2-a8e5-6f5e1f995ebd');\n",
       "var x = new MutationObserver(function (mutations, observer) {{\n",
       "        var display = window.getComputedStyle(gd).display;\n",
       "        if (!display || display === 'none') {{\n",
       "            console.log([gd, 'removed!']);\n",
       "            Plotly.purge(gd);\n",
       "            observer.disconnect();\n",
       "        }}\n",
       "}});\n",
       "\n",
       "// Listen for the removal of the full notebook cells\n",
       "var notebookContainer = gd.closest('#notebook-container');\n",
       "if (notebookContainer) {{\n",
       "    x.observe(notebookContainer, {childList: true});\n",
       "}}\n",
       "\n",
       "// Listen for the clearing of the current output cell\n",
       "var outputEl = gd.closest('.output');\n",
       "if (outputEl) {{\n",
       "    x.observe(outputEl, {childList: true});\n",
       "}}\n",
       "\n",
       "                        })                };                });            </script>        </div>"
      ]
     },
     "metadata": {},
     "output_type": "display_data"
    }
   ],
   "source": [
    "fig = px.bar(new_table, \n",
    "             x=new_table.index, \n",
    "             y=new_table.columns, \n",
    "             labels = dict(index = \"Sample\", value = \"No of reads\"),color_discrete_map=color_dict,)\n",
    "fig.update_traces(marker_line=dict(width=.1, color='black'))\n",
    "fig.update_layout(legend=dict(\n",
    "    orientation=\"h\",\n",
    "    entrywidth=80,\n",
    "    yanchor=\"bottom\",\n",
    "    y=1.02,\n",
    "    xanchor=\"right\",\n",
    "    x=1,\n",
    "    title = 'Genus'\n",
    "))\n",
    "#fig.write_html(\"RESISTANCE_PROFILE.html\")\n",
    "\n",
    "fig.show()"
   ]
  }
 ],
 "metadata": {
  "kernelspec": {
   "display_name": "Python 3 (ipykernel)",
   "language": "python",
   "name": "python3"
  },
  "language_info": {
   "codemirror_mode": {
    "name": "ipython",
    "version": 3
   },
   "file_extension": ".py",
   "mimetype": "text/x-python",
   "name": "python",
   "nbconvert_exporter": "python",
   "pygments_lexer": "ipython3",
   "version": "3.8.18"
  }
 },
 "nbformat": 4,
 "nbformat_minor": 5
}
